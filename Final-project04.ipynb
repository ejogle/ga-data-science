{
 "cells": [
  {
   "cell_type": "code",
   "execution_count": 1,
   "metadata": {
    "collapsed": true
   },
   "outputs": [],
   "source": [
    "import numpy as np\n",
    "import pandas as pd\n",
    "import statsmodels.api as sm\n",
    "import matplotlib.pyplot as plt\n",
    "from scipy import interp\n",
    "from sklearn import svm\n",
    "from sklearn import metrics\n",
    "from sklearn.metrics import roc_curve, auc\n",
    "from sklearn.cross_validation import StratifiedKFold\n",
    "from sklearn.linear_model import LogisticRegression\n",
    "from sklearn.cross_validation import train_test_split\n",
    "%matplotlib inline\n",
    "from sklearn.cross_validation import cross_val_score"
   ]
  },
  {
   "cell_type": "code",
   "execution_count": 2,
   "metadata": {
    "collapsed": false
   },
   "outputs": [
    {
     "name": "stdout",
     "output_type": "stream",
     "text": [
      "(41188, 21)\n"
     ]
    }
   ],
   "source": [
    "dta = pd.read_csv(\"Bank Marketing FULL.csv\")\n",
    "dta.dropna()\n",
    "\n",
    "print(dta.shape)"
   ]
  },
  {
   "cell_type": "code",
   "execution_count": 3,
   "metadata": {
    "collapsed": false
   },
   "outputs": [
    {
     "name": "stdout",
     "output_type": "stream",
     "text": [
      "(41188, 65)\n"
     ]
    }
   ],
   "source": [
    "df = pd.get_dummies(dta)\n",
    "print(df.shape)"
   ]
  },
  {
   "cell_type": "code",
   "execution_count": 4,
   "metadata": {
    "collapsed": false
   },
   "outputs": [],
   "source": [
    "df.ix[df.pdays == 999, 'pdays'] = 0\n",
    "# 'pdays' = 999 means the client was not previously contacted about a campaign\n",
    "# all 999 values were changed to 0"
   ]
  },
  {
   "cell_type": "code",
   "execution_count": 5,
   "metadata": {
    "collapsed": false
   },
   "outputs": [
    {
     "name": "stdout",
     "output_type": "stream",
     "text": [
      "(41188, 54)\n",
      "Index(['age', 'campaign', 'pdays', 'previous', 'emp.var.rate',\n",
      "       'cons.price.idx', 'cons.conf.idx', 'euribor3m', 'nr.employed',\n",
      "       'job_admin.', 'job_blue-collar', 'job_entrepreneur', 'job_housemaid',\n",
      "       'job_management', 'job_retired', 'job_self-employed', 'job_services',\n",
      "       'job_student', 'job_technician', 'job_unknown', 'marital_divorced',\n",
      "       'marital_married', 'marital_unknown', 'education_basic.4y',\n",
      "       'education_basic.6y', 'education_basic.9y', 'education_illiterate',\n",
      "       'education_professional.course', 'education_university.degree',\n",
      "       'education_unknown', 'default_unknown', 'default_yes',\n",
      "       'housing_unknown', 'housing_yes', 'loan_unknown', 'loan_yes',\n",
      "       'contact_cellular', 'month_apr', 'month_aug', 'month_dec', 'month_jul',\n",
      "       'month_jun', 'month_mar', 'month_nov', 'month_oct', 'month_sep',\n",
      "       'day_of_week_mon', 'day_of_week_thu', 'day_of_week_tue',\n",
      "       'day_of_week_wed', 'poutcome_nonexistent', 'poutcome_success', 'y_yes',\n",
      "       'intercept'],\n",
      "      dtype='object')\n"
     ]
    }
   ],
   "source": [
    "# dropping default categories for new dummy data set\n",
    "col_drop = ['duration',\n",
    "        'job_unemployed',\n",
    "        'marital_single',\n",
    "        'education_high.school',\n",
    "        'default_no',\n",
    "        'housing_no',\n",
    "        'loan_no',\n",
    "        'contact_telephone',\n",
    "        'month_may', # range of contact months was March through December, most contact occurred during May.\n",
    "        'day_of_week_fri',\n",
    "        'poutcome_failure',\n",
    "        'y_no']\n",
    "dta_dummies = df.drop(df[col_drop], axis=1)\n",
    "# 'y_yes' is outcome variable\n",
    "\n",
    "dta_dummies.dropna()\n",
    "dta_dummies['intercept'] = 1.0\n",
    "print(dta_dummies.shape)\n",
    "print(dta_dummies.columns)"
   ]
  },
  {
   "cell_type": "code",
   "execution_count": 6,
   "metadata": {
    "collapsed": false
   },
   "outputs": [],
   "source": [
    "#train_cols = dta_dummies.columns[:52]\n",
    "#print train_cols\n",
    "\n",
    "train_cols = ['age',\n",
    "              'campaign',\n",
    "              'pdays',\n",
    "              'previous',\n",
    "              'emp.var.rate',\n",
    "              'cons.price.idx',\n",
    "              'cons.conf.idx',\n",
    "              'euribor3m',\n",
    "              'nr.employed',\n",
    "              'job_admin.',\n",
    "              'job_blue-collar',\n",
    "              'job_entrepreneur',\n",
    "              'job_housemaid',\n",
    "              'job_management',\n",
    "              'job_retired',\n",
    "              'job_self-employed',\n",
    "              'job_services',\n",
    "              'job_student',\n",
    "              'job_technician',\n",
    "              'job_unknown',\n",
    "              'marital_married',\n",
    "              'marital_divorced',\n",
    "              'marital_unknown',\n",
    "              'education_basic.4y',\n",
    "              'education_basic.6y',\n",
    "              'education_basic.9y',\n",
    "              'education_illiterate',\n",
    "              'education_professional.course',\n",
    "              'education_university.degree',\n",
    "              'education_unknown',\n",
    "              'default_yes',\n",
    "              'default_unknown',\n",
    "              'housing_yes',\n",
    "              'housing_unknown',\n",
    "              'loan_yes',\n",
    "              'loan_unknown',\n",
    "              'contact_cellular',\n",
    "              'month_mar',\n",
    "              'month_apr',\n",
    "              'month_jun',\n",
    "              'month_jul',\n",
    "              'month_aug',\n",
    "              'month_sep',\n",
    "              'month_oct',\n",
    "              'month_nov',\n",
    "              'month_dec',\n",
    "              'day_of_week_mon',\n",
    "              'day_of_week_tue',\n",
    "              'day_of_week_wed',\n",
    "              'day_of_week_thu',\n",
    "              'poutcome_success',\n",
    "              'poutcome_nonexistent',\n",
    "              'intercept']\n",
    "              "
   ]
  },
  {
   "cell_type": "code",
   "execution_count": 8,
   "metadata": {
    "collapsed": true
   },
   "outputs": [],
   "source": [
    "# FEATURE SELECTION prior to LR, regularization afterwards"
   ]
  },
  {
   "cell_type": "code",
   "execution_count": null,
   "metadata": {
    "collapsed": false
   },
   "outputs": [],
   "source": [
    "# Recursive Feature Selection with Cross Validation\n",
    "from sklearn.svm import SVR\n",
    "from sklearn.svm import SVC\n",
    "from sklearn.feature_selection import RFECV\n",
    "from sklearn.datasets import make_classification\n",
    "\n",
    "X = dta_dummies[train_cols]\n",
    "y = dta_dummies['y_yes']\n",
    " \n",
    "# Create the RFE object and compute a cross-validated score.\n",
    "svc = SVC(kernel=\"linear\")\n",
    "# The \"accuracy\" scoring is proportional to the number of correct\n",
    "# classifications\n",
    "rfecv = RFECV(estimator=svc, step=1, cv=StratifiedKFold(y, 5),\n",
    "              scoring='accuracy')\n",
    "rfecv.fit(X, y)\n",
    "\n",
    "print(\"Optimal number of features : %d\" % rfecv.n_features_)\n",
    "\n",
    "# Plot number of features VS. cross-validation scores\n",
    "plt.figure()\n",
    "plt.xlabel(\"Number of features selected\")\n",
    "plt.ylabel(\"Cross validation score (nb of correct classifications)\")\n",
    "plt.plot(range(1, len(rfecv.grid_scores_) + 1), rfecv.grid_scores_)\n",
    "plt.savefig('RFECV.pdf')"
   ]
  },
  {
   "cell_type": "code",
   "execution_count": 8,
   "metadata": {
    "collapsed": false
   },
   "outputs": [
    {
     "name": "stdout",
     "output_type": "stream",
     "text": [
      "0.897979994173\n",
      "0.11265417111780131\n"
     ]
    }
   ],
   "source": [
    "# Basic LR model\n",
    "model = LogisticRegression()\n",
    "model = model.fit(dta_dummies[train_cols], dta_dummies['y_yes'])\n",
    "\n",
    "print(model.score(dta_dummies[train_cols], dta_dummies['y_yes']))\n",
    "print(dta_dummies['y_yes'].mean())\n",
    "# Approx. 90% accuracy without optimization or cross validation, although with only ~11% of all clients having \n",
    "# purchased term deposits we could still have almost 90% accuracy by always predicting \"No\".\" "
   ]
  },
  {
   "cell_type": "code",
   "execution_count": 10,
   "metadata": {
    "collapsed": false
   },
   "outputs": [
    {
     "ename": "TypeError",
     "evalue": "data argument can't be an iterator",
     "output_type": "error",
     "traceback": [
      "\u001b[0;31m---------------------------------------------------------------------------\u001b[0m",
      "\u001b[0;31mTypeError\u001b[0m                                 Traceback (most recent call last)",
      "\u001b[0;32m<ipython-input-10-0442f1354303>\u001b[0m in \u001b[0;36m<module>\u001b[0;34m()\u001b[0m\n\u001b[0;32m----> 1\u001b[0;31m \u001b[0mprint\u001b[0m\u001b[0;34m(\u001b[0m\u001b[0mpd\u001b[0m\u001b[0;34m.\u001b[0m\u001b[0mDataFrame\u001b[0m\u001b[0;34m(\u001b[0m\u001b[0mzip\u001b[0m\u001b[0;34m(\u001b[0m\u001b[0mdta_dummies\u001b[0m\u001b[0;34m[\u001b[0m\u001b[0mtrain_cols\u001b[0m\u001b[0;34m]\u001b[0m\u001b[0;34m,\u001b[0m \u001b[0mnp\u001b[0m\u001b[0;34m.\u001b[0m\u001b[0mtranspose\u001b[0m\u001b[0;34m(\u001b[0m\u001b[0mmodel\u001b[0m\u001b[0;34m.\u001b[0m\u001b[0mcoef_\u001b[0m\u001b[0;34m)\u001b[0m\u001b[0;34m)\u001b[0m\u001b[0;34m)\u001b[0m\u001b[0;34m)\u001b[0m\u001b[0;34m\u001b[0m\u001b[0m\n\u001b[0m\u001b[1;32m      2\u001b[0m \u001b[0;31m#    Examining the coefficients, we see that increases in the number of contacts performed for a client both during\u001b[0m\u001b[0;34m\u001b[0m\u001b[0;34m\u001b[0m\u001b[0m\n\u001b[1;32m      3\u001b[0m \u001b[0;31m# and prior to the current campaign (the 'campaign' and 'previous' variables) correspond with decreases in the\u001b[0m\u001b[0;34m\u001b[0m\u001b[0;34m\u001b[0m\u001b[0m\n\u001b[1;32m      4\u001b[0m \u001b[0;31m# likelihood of purchase. Increases in the employment variation rate and Euribor 3 month rate (the reference interest\u001b[0m\u001b[0;34m\u001b[0m\u001b[0;34m\u001b[0m\u001b[0m\n\u001b[1;32m      5\u001b[0m \u001b[0;31m# rate published by the European Banking Federation) also logically correspond with decreases in purchase likelihood.\u001b[0m\u001b[0;34m\u001b[0m\u001b[0;34m\u001b[0m\u001b[0m\n",
      "\u001b[0;32m/Users/matthewhagen/anaconda/lib/python3.4/site-packages/pandas/core/frame.py\u001b[0m in \u001b[0;36m__init__\u001b[0;34m(self, data, index, columns, dtype, copy)\u001b[0m\n\u001b[1;32m    283\u001b[0m                 \u001b[0mmgr\u001b[0m \u001b[0;34m=\u001b[0m \u001b[0mself\u001b[0m\u001b[0;34m.\u001b[0m\u001b[0m_init_dict\u001b[0m\u001b[0;34m(\u001b[0m\u001b[0;34m{\u001b[0m\u001b[0;34m}\u001b[0m\u001b[0;34m,\u001b[0m \u001b[0mindex\u001b[0m\u001b[0;34m,\u001b[0m \u001b[0mcolumns\u001b[0m\u001b[0;34m,\u001b[0m \u001b[0mdtype\u001b[0m\u001b[0;34m=\u001b[0m\u001b[0mdtype\u001b[0m\u001b[0;34m)\u001b[0m\u001b[0;34m\u001b[0m\u001b[0m\n\u001b[1;32m    284\u001b[0m         \u001b[0;32melif\u001b[0m \u001b[0misinstance\u001b[0m\u001b[0;34m(\u001b[0m\u001b[0mdata\u001b[0m\u001b[0;34m,\u001b[0m \u001b[0mcollections\u001b[0m\u001b[0;34m.\u001b[0m\u001b[0mIterator\u001b[0m\u001b[0;34m)\u001b[0m\u001b[0;34m:\u001b[0m\u001b[0;34m\u001b[0m\u001b[0m\n\u001b[0;32m--> 285\u001b[0;31m             \u001b[0;32mraise\u001b[0m \u001b[0mTypeError\u001b[0m\u001b[0;34m(\u001b[0m\u001b[0;34m\"data argument can't be an iterator\"\u001b[0m\u001b[0;34m)\u001b[0m\u001b[0;34m\u001b[0m\u001b[0m\n\u001b[0m\u001b[1;32m    286\u001b[0m         \u001b[0;32melse\u001b[0m\u001b[0;34m:\u001b[0m\u001b[0;34m\u001b[0m\u001b[0m\n\u001b[1;32m    287\u001b[0m             \u001b[0;32mtry\u001b[0m\u001b[0;34m:\u001b[0m\u001b[0;34m\u001b[0m\u001b[0m\n",
      "\u001b[0;31mTypeError\u001b[0m: data argument can't be an iterator"
     ]
    }
   ],
   "source": [
    "print(pd.DataFrame(zip(dta_dummies[train_cols], np.transpose(model.coef_))))\n",
    "#    Examining the coefficients, we see that increases in the number of contacts performed for a client both during \n",
    "# and prior to the current campaign (the 'campaign' and 'previous' variables) correspond with decreases in the\n",
    "# likelihood of purchase. Increases in the employment variation rate and Euribor 3 month rate (the reference interest\n",
    "# rate published by the European Banking Federation) also logically correspond with decreases in purchase likelihood. \n",
    "# Demographically, customers with varying levels of \"basic\" education were less likely to purchase deposits as were\n",
    "# customers with either personal or home loans or credit in default. The only professions with increased likelihood of\n",
    "# purchase were retirees, students, and technicians. Obviously if the outcome of the previous marketing campaign was\n",
    "# a success, the client was more likely to purchase a deposit as well."
   ]
  },
  {
   "cell_type": "code",
   "execution_count": 12,
   "metadata": {
    "collapsed": false
   },
   "outputs": [
    {
     "name": "stdout",
     "output_type": "stream",
     "text": [
      "(24712, 53) (16476, 53) (24712,) (16476,)\n",
      "LogisticRegression(C=1.0, class_weight=None, dual=False, fit_intercept=True,\n",
      "          intercept_scaling=1, max_iter=100, multi_class='ovr',\n",
      "          penalty='l2', random_state=None, solver='liblinear', tol=0.0001,\n",
      "          verbose=0)\n",
      "0.898915506636\n"
     ]
    }
   ],
   "source": [
    "# Model Evaluation with Training and Test Sets\n",
    "X_train, X_test, y_train, y_test = train_test_split(\n",
    "    dta_dummies[train_cols], \n",
    "    dta_dummies['y_yes'], \n",
    "    test_size=0.4, random_state=0)\n",
    "print(X_train.shape, X_test.shape, y_train.shape, y_test.shape)\n",
    "\n",
    "eval_model = LogisticRegression()\n",
    "print(eval_model.fit(X_train, y_train))\n",
    "print(eval_model.score(X_train, y_train))"
   ]
  },
  {
   "cell_type": "code",
   "execution_count": 14,
   "metadata": {
    "collapsed": false
   },
   "outputs": [
    {
     "name": "stdout",
     "output_type": "stream",
     "text": [
      "0.89973294489\n",
      "0.89973294489\n",
      "             precision    recall  f1-score   support\n",
      "\n",
      "        0.0       0.91      0.98      0.95     14655\n",
      "        1.0       0.64      0.22      0.32      1821\n",
      "\n",
      "avg / total       0.88      0.90      0.88     16476\n",
      "\n",
      "             precision    recall  f1-score   support\n",
      "\n",
      "        0.0       0.91      0.98      0.95     21893\n",
      "        1.0       0.66      0.23      0.34      2819\n",
      "\n",
      "avg / total       0.88      0.90      0.88     24712\n",
      "\n"
     ]
    }
   ],
   "source": [
    "predictedTEST = eval_model.predict(X_test)\n",
    "predictedTRAIN = eval_model.predict(X_train)\n",
    "probs = eval_model.predict_proba(X_test) \n",
    "\n",
    "# The training and test sets performed about the same, ~89% accuracy, though the test set was 0.001 higher.\n",
    "print(eval_model.score(X_test, y_test))\n",
    "print(metrics.accuracy_score(y_test, predictedTEST)  )\n",
    "print (metrics.classification_report(y_test, predictedTEST))\n",
    "print (metrics.classification_report(y_train, predictedTRAIN))"
   ]
  },
  {
   "cell_type": "code",
   "execution_count": 16,
   "metadata": {
    "collapsed": false
   },
   "outputs": [
    {
     "name": "stdout",
     "output_type": "stream",
     "text": [
      "Confusion Matrix, without Normalization\n",
      "[[14431   224]\n",
      " [ 1428   393]]\n",
      "Normalized Confusion Matrix\n",
      "[[ 0.98  0.02]\n",
      " [ 0.78  0.22]]\n"
     ]
    },
    {
     "name": "stderr",
     "output_type": "stream",
     "text": [
      "/Users/matthewhagen/anaconda/lib/python3.4/site-packages/matplotlib/collections.py:590: FutureWarning: elementwise comparison failed; returning scalar instead, but in the future will perform elementwise comparison\n",
      "  if self._edgecolors == str('face'):\n"
     ]
    },
    {
     "data": {
      "image/png": "[encoded data removed]",
      "text/plain": [
       "<matplotlib.figure.Figure at 0x10b7b7160>"
      ]
     },
     "metadata": {},
     "output_type": "display_data"
    },
    {
     "data": {
      "image/png": "[encoded data removed]",
      "text/plain": [
       "<matplotlib.figure.Figure at 0x10e052780>"
      ]
     },
     "metadata": {},
     "output_type": "display_data"
    },
    {
     "name": "stdout",
     "output_type": "stream",
     "text": [
      "0.775612490166\n"
     ]
    }
   ],
   "source": [
    "# Confusion matrix for test set with corresponding AUC score\n",
    "from sklearn.metrics import confusion_matrix\n",
    "cm = confusion_matrix(y_test, predictedTEST)\n",
    "\n",
    "def plot_confusion_matrix(cm, title='Confusion Matrix', cmap=plt.cm.Blues):\n",
    "    plt.imshow(cm, interpolation='nearest', cmap=cmap)\n",
    "    plt.title(title)\n",
    "    plt.colorbar()\n",
    "    plt.tight_layout()\n",
    "    plt.ylabel('True label')\n",
    "    plt.xlabel('Predicted label')\n",
    "\n",
    "np.set_printoptions(precision=2)\n",
    "print('Confusion Matrix, without Normalization')\n",
    "print(cm)\n",
    "plt.figure()\n",
    "plot_confusion_matrix(cm)\n",
    "plt.savefig('CM.pdf')\n",
    "\n",
    "cm_normalized = cm.astype('float') / cm.sum(axis=1)[:, np.newaxis]\n",
    "print('Normalized Confusion Matrix')\n",
    "print(cm_normalized)\n",
    "plt.figure()\n",
    "plot_confusion_matrix(cm_normalized, title='Normalized Confusion Matrix')\n",
    "plt.savefig('CMnorm.pdf')\n",
    "plt.show()\n",
    "\n",
    "print(metrics.roc_auc_score(y_test, probs[:, 1]))"
   ]
  },
  {
   "cell_type": "code",
   "execution_count": 25,
   "metadata": {
    "collapsed": false
   },
   "outputs": [
    {
     "name": "stderr",
     "output_type": "stream",
     "text": [
      "[Parallel(n_jobs=1)]: Done   1 jobs       | elapsed:    0.1s\n",
      "[Parallel(n_jobs=1)]: Done  50 jobs       | elapsed:   10.2s\n"
     ]
    },
    {
     "name": "stdout",
     "output_type": "stream",
     "text": [
      "Fitting 10 folds for each of 6 candidates, totalling 60 fits\n",
      "Best Weight Parameters: {'class_weight': {0: 0.1, 1: 0.9}}\n",
      "Logistic Regression F2 score: 0.248703\n",
      "Logistic Regression F2 score with class weight: 0.529161\n",
      "Logistic Regression AUC score: 0.600265\n",
      "Logistic Regression AUC score with class weight: 0.732571\n"
     ]
    },
    {
     "name": "stderr",
     "output_type": "stream",
     "text": [
      "[Parallel(n_jobs=1)]: Done  60 out of  60 | elapsed:   11.7s finished\n"
     ]
    }
   ],
   "source": [
    "#Used F2 score which favors recall and class weight parameters to show predictions can be improved \n",
    "#and minimize the amount of False Negatives, because even though the accuracy is high you have very low recall\n",
    "#Recall = TP / (TP+FN)\n",
    "from sklearn.metrics import fbeta_score, make_scorer\n",
    "from sklearn.grid_search import GridSearchCV\n",
    "import math\n",
    "\n",
    "def f_beta_score(beta,cm):\n",
    "    betapow = math.pow(beta,2)\n",
    "    numerator=(1+math.pow(beta,2))*cm[1,1]\n",
    "    denominator=(1+betapow)*cm[1,1]+(betapow*cm[1,0])+cm[0,1]\n",
    "    return numerator/denominator\n",
    "\n",
    "param_grid = [                        \n",
    "  {'class_weight':[{1:0.99,0:0.01},{1:0.95,0:0.05},{1:0.9,0:0.1},{1:0.8,0:0.2},{1:0.7,0:0.3},{1:0.6,0:0.4}]},\n",
    "   ]\n",
    "\n",
    "f2 = make_scorer(fbeta_score, beta=2)\n",
    "\n",
    "grid_search = GridSearchCV(LogisticRegression(), cv=10,param_grid=param_grid, verbose=1,scoring=f2)\n",
    "\n",
    "log_fitted=grid_search.fit(X_train,y_train).predict(X_test)\n",
    "\n",
    "print(\"Best Weight Parameters: \" + str(grid_search.best_params_))\n",
    "\n",
    "print(\"Logistic Regression F2 score: %f\" % fbeta_score(y_test,predictedTEST,2) )\n",
    "print(\"Logistic Regression F2 score with class weight: %f\" % fbeta_score(y_test,log_fitted,2))\n",
    "\n",
    "\n",
    "print(\"Logistic Regression AUC score: %f\" % metrics.roc_auc_score(y_test, predictedTEST))\n",
    "print(\"Logistic Regression AUC score with class weight: %f\" % metrics.roc_auc_score(y_test, log_fitted))"
   ]
  },
  {
   "cell_type": "code",
   "execution_count": 26,
   "metadata": {
    "collapsed": false
   },
   "outputs": [
    {
     "name": "stdout",
     "output_type": "stream",
     "text": [
      "Confusion Matrix, without Normalization\n",
      "[[12096  2559]\n",
      " [  656  1165]]\n",
      "Normalized Confusion Matrix\n",
      "[[ 0.83  0.17]\n",
      " [ 0.36  0.64]]\n"
     ]
    },
    {
     "name": "stderr",
     "output_type": "stream",
     "text": [
      "/Users/matthewhagen/anaconda/lib/python3.4/site-packages/matplotlib/collections.py:590: FutureWarning: elementwise comparison failed; returning scalar instead, but in the future will perform elementwise comparison\n",
      "  if self._edgecolors == str('face'):\n"
     ]
    },
    {
     "data": {
      "image/png": "[encoded data removed]",
      "text/plain": [
       "<matplotlib.figure.Figure at 0x10c9823c8>"
      ]
     },
     "metadata": {},
     "output_type": "display_data"
    },
    {
     "data": {
      "image/png": "[encoded data removed]",
      "text/plain": [
       "<matplotlib.figure.Figure at 0x10c7a0b00>"
      ]
     },
     "metadata": {},
     "output_type": "display_data"
    }
   ],
   "source": [
    "cmat=metrics.confusion_matrix(y_pred=log_fitted,y_true=y_test)\n",
    "\n",
    "print('Confusion Matrix, without Normalization')\n",
    "print(cmat)\n",
    "plt.figure()\n",
    "plot_confusion_matrix(cmat)\n",
    "\n",
    "cmat_normalized = cmat.astype('float') / cmat.sum(axis=1)[:, np.newaxis]\n",
    "print('Normalized Confusion Matrix')\n",
    "print(cmat_normalized)\n",
    "plt.figure()\n",
    "plot_confusion_matrix(cmat_normalized)\n",
    "\n"
   ]
  },
  {
   "cell_type": "code",
   "execution_count": null,
   "metadata": {
    "collapsed": true
   },
   "outputs": [],
   "source": [
    "#ROC curve with cross validation\n",
    "#This would be the correcto \n",
    "conf_mat = np.zeros((2,2))\n",
    "for i, (train,test) in enumerate(cv):\n",
    "    dta_train = dta_dummies.iloc[train]\n",
    "    dta_test = dta_dummies.iloc[test]\n",
    "    y_predict = eval_model.fit(dta_train[train_cols],dta_train['y_yes']).predict(dta_test[train_cols])\n",
    "    y_test = dta_test['y_yes']\n",
    "\n",
    "    cm = confusion_matrix(y_test,y_predict)\n",
    "\n",
    "    conf_mat = conf_mat + cm\n",
    "\n",
    "print(conf_mat)"
   ]
  },
  {
   "cell_type": "code",
   "execution_count": 17,
   "metadata": {
    "collapsed": false
   },
   "outputs": [
    {
     "data": {
      "image/png": "[encoded data removed]",
      "text/plain": [
       "<matplotlib.figure.Figure at 0x114492e80>"
      ]
     },
     "metadata": {},
     "output_type": "display_data"
    }
   ],
   "source": [
    "# ROC curve with cross validation\n",
    "cv = StratifiedKFold(y_test, n_folds=10)\n",
    "\n",
    "mean_tpr = 0.0\n",
    "mean_fpr = np.linspace(0, 1, 100)\n",
    "all_tpr = []\n",
    "\n",
    "for i, (train, test) in enumerate(cv):\n",
    "    probas_ = eval_model.fit(X_train, y_train).predict_proba(X_test)\n",
    "    cm = confusion_matrix(y_test, predictedTEST)\n",
    "    # Compute ROC curve and area the curve\n",
    "    fpr, tpr, thresholds = roc_curve(y_test, probas_[:, 1])\n",
    "    mean_tpr += interp(mean_fpr, fpr, tpr)\n",
    "    mean_tpr[0] = 0.0\n",
    "    roc_auc = auc(fpr, tpr)\n",
    "    plt.plot(fpr, tpr, lw=1, label='ROC fold %d (area = %0.2f)' % (i, roc_auc))\n",
    "    \n",
    "plt.plot([0, 1], [0, 1], '--', color=(0.6, 0.6, 0.6), label='Random')\n",
    "\n",
    "mean_tpr /= len(cv)\n",
    "mean_tpr[-1] = 1.0\n",
    "mean_auc = auc(mean_fpr, mean_tpr)\n",
    "plt.plot(mean_fpr, mean_tpr, 'k--',\n",
    "         label='Mean ROC (area = %0.2f)' % mean_auc, lw=2)\n",
    "\n",
    "plt.xlim([-0.05, 1.05])\n",
    "plt.ylim([-0.05, 1.05])\n",
    "plt.xlabel('False Positive Rate')\n",
    "plt.ylabel('True Positive Rate')\n",
    "plt.title('Bank Marketing ROC')\n",
    "plt.legend(loc=\"lower right\")\n",
    "plt.show()"
   ]
  },
  {
   "cell_type": "code",
   "execution_count": 27,
   "metadata": {
    "collapsed": false
   },
   "outputs": [
    {
     "name": "stdout",
     "output_type": "stream",
     "text": [
      "[[ 15770.      0.]\n",
      " [   706.      0.]]\n"
     ]
    }
   ],
   "source": [
    "#The code above is incorrect for cross validation, because it does not use the indexes returned train,test to split the dataset.\n",
    "#Placed the correct crossvalidation code and confusion matrix below\n",
    "cv = StratifiedKFold(y_test, n_folds=10)\n",
    "conf_mat = np.zeros((2,2))\n",
    "for i, (train,test) in enumerate(cv):\n",
    "    dta_train = dta_dummies.iloc[train]\n",
    "    dta_test = dta_dummies.iloc[test]\n",
    "    y_predict = eval_model.fit(dta_train[train_cols],dta_train['y_yes']).predict(dta_test[train_cols])\n",
    "    y_test = dta_test['y_yes']\n",
    "\n",
    "    cm = confusion_matrix(y_test,y_predict)\n",
    "\n",
    "    conf_mat = conf_mat + cm\n",
    "\n",
    "print(conf_mat)"
   ]
  },
  {
   "cell_type": "code",
   "execution_count": null,
   "metadata": {
    "collapsed": false
   },
   "outputs": [],
   "source": [
    "scores = cross_val_score(model, \n",
    "                         dta_dummies[train_cols], \n",
    "                         dta_dummies['y_yes'], \n",
    "                         scoring='accuracy', cv=8)\n",
    "print scores.mean()\n",
    "# With cross validation we see the model performing at 82% accuracy, which is pretty good in the employment \n",
    "# of direct marketing where costs of missclassification (calling the wrong person) are low."
   ]
  },
  {
   "cell_type": "code",
   "execution_count": null,
   "metadata": {
    "collapsed": true
   },
   "outputs": [],
   "source": [
    "# With 5 folds the mean AUC is 0.77, a score which can definitely be improved through increased \n",
    "# analysis of the actual responders and the respective attributes that had the strongest affect on the successful\n",
    "# outcome. It should be noted that all folds had the same AUC. "
   ]
  },
  {
   "cell_type": "code",
   "execution_count": null,
   "metadata": {
    "collapsed": false
   },
   "outputs": [],
   "source": [
    "# Ridge Regression\n",
    "from sklearn.linear_model import Ridge\n",
    "\n",
    "clf = Ridge(alpha=0.2)\n",
    "print clf.fit(dta_dummies[train_cols], dta_dummies['y_yes'])\n",
    "print clf.score(dta_dummies[train_cols], dta_dummies['y_yes'])\n",
    "#RidgeClassifier(alpha=1.0, fit_intercept=True, normalize=False, copy_X=True, \n",
    "                #max_iter=None, tol=0.001, class_weight=None, solver='auto', random_state=None)"
   ]
  },
  {
   "cell_type": "code",
   "execution_count": null,
   "metadata": {
    "collapsed": false
   },
   "outputs": [],
   "source": [
    "# Lasso Regression\n",
    "from sklearn.linear_model import Lasso\n",
    "\n",
    "clf = Lasso(alpha=0.2)\n",
    "print clf.fit(dta_dummies[train_cols], dta_dummies['y_yes'])\n",
    "print clf.score(dta_dummies[train_cols], dta_dummies['y_yes'])"
   ]
  },
  {
   "cell_type": "code",
   "execution_count": null,
   "metadata": {
    "collapsed": true
   },
   "outputs": [],
   "source": []
  }
 ],
 "metadata": {
  "kernelspec": {
   "display_name": "Python 3",
   "language": "python",
   "name": "python3"
  },
  "language_info": {
   "codemirror_mode": {
    "name": "ipython",
    "version": 3
   },
   "file_extension": ".py",
   "mimetype": "text/x-python",
   "name": "python",
   "nbconvert_exporter": "python",
   "pygments_lexer": "ipython3",
   "version": "3.4.4"
  }
 },
 "nbformat": 4,
 "nbformat_minor": 0
}
