{
 "cells": [
  {
   "cell_type": "markdown",
   "metadata": {},
   "source": [
    "I. Project and Hypothesis\n",
    "-------------------------\n",
    "Success in marketing outcomes is fairly simple to determine: after exposure to a particular marketing campaign, did the individual actually purchase the product or service? Cost-benefit and ROI are paramount in this effort, thus \"direct marketing\" narrows a universe of potential customers on the basis of various relevant criteria to a smaller universe based on likelihood of response; these select customers are then directly marketed to. Again, success is the binary outcome of whether or not the marketing actually worked. The utility of data science and machine learning techniques to optimize this process should be clear.\n",
    "\n",
    "My project uses data on direct marketing efforts by a Portuguese banking institution to get clients to subscribe to term deposits. The data was collected and analyzed in a 2014 paper by S. Moro, P. Cortez and P. Rita, and is publicly available on the UCI Machine Learning Repository.\n",
    "\n",
    "Rigorous application of machine learning algorithms and predictive analytics in the direct marketing sphere is near mandatory in the Big Data era, particularly in inherently risky fields like banking (and the burgeoning alternative lending and fintech industries). Important predictors for this data set are likely age and employment indicators, and indicators for credit history and status. "
   ]
  },
  {
   "cell_type": "markdown",
   "metadata": {},
   "source": [
    "II. Data Set \n",
    "\n",
    "The full dataset (bank-additional-full.csv) has a total of 41,188 observations with 20 attributes and a binary output variable for term deposit subscription, drawn from a Portuguese retail bank between 2008 and 2013. This is drawn from the overall Portuguese population of roughly 10 million persons."
   ]
  },
  {
   "cell_type": "markdown",
   "metadata": {},
   "source": [
    "|Attribute | Kind | Type | Description\n",
    "---| ---|---|---|---|\n",
    "1|age | numeric  | range | client's age\n",
    "2|job | categorical | set | type of job\n",
    "3|marital| categorical | set | marital status\n",
    "4|education | categorical | set | level of education\n",
    "5|default | categorical | flag | has credit in default?\n",
    "6|housing | categorical | flag | has housing loan?\n",
    "7|loan | categorical | flag | has personal loan?\n",
    "8|contact | categorical | set | contact communication type\n",
    "9|month | categorical | set | last contact month of year\n",
    "10|day_of_week | categorical | set | last contact day of week\n",
    "11|duration | numeric | range | last contact duration (seconds)\n",
    "12|campaign | numeric | range | # of contacts for client during campaign\n",
    "13|pdays | numeric | range | # of days since last contact (999 = no previous contact)\n",
    "14|previous | numeric | range | # of contacts before this campaign for this client\n",
    "15|poutcome | categorical | set | outcome of previous marketing campaign\n",
    "16|emp.var.rate | numeric | range | employment variation rate - quarterly indicator\n",
    "17|cons.price.idx | numeric | range | consumer price index - monthly indicator\n",
    "18|cons.conf.idx | numeric | range | consumer confidence index - monthly indicator\n",
    "19|euribor3m | numeric | range | euribor 3 month rate - daily indicator\n",
    "20|nr.employed | numeric | range | employment rate - quarterly indicator\n",
    "21|y (outcome)| categorical | flag | has client subscribed to a term deposit?"
   ]
  },
  {
   "cell_type": "markdown",
   "metadata": {},
   "source": [
    "III. Domain Knowledge and Extant Research\n",
    "\n",
    "I currently work for a direct marketing firm in the lending space and have some familiarity with the predictive modeling and analysis methodology employed by the analysts and account managers; to this end I am very aware of how important feature selection is to increasing response rates and experimental campaign design. I am most familiar with logistic regression in this context--though the firm often employs random forests to optimize response, and a champion-challenger process to test models against one another.\n",
    "\n",
    "In researching prior machine learning efforts with the bank marketing dataset, I've found two papers in particular that apply various data mining techniques to the data: \"Who Will Subscribe A Term Deposit?\" (2014) by Jiong Chen, Yucen Han, Zhao Hu, Yicheng Lu and Mengni Sun of Columbia's Department of Statistics, and \"Bank Direct Marketing Analysis of Data Mining Techniques\" (2014) by Hany Elsalamony of Helwan University. The Columbia analysis builds 4 models (logistic, neural network, k-NN, random forest), while noting the imbalanced nature of the data and handling missing values via imputation and deletion, then determines an optimal model (feedforward neural network) to increase campaign efficiency. Elsalamony's analysis examines the performance of multilayer percpetion neural networks, Bayesian networks, logistic regression, and decision tree modeling (C5.0 algorithm) to increase campaign effectiveness; his findings give the edge to the decision tree. "
   ]
  },
  {
   "cell_type": "markdown",
   "metadata": {},
   "source": [
    "IV. Project Concerns\n",
    "\n",
    "My efforts will focus on logistic regression and performance analysis using ROC and AUC measures. Compared to the 2 papers mentioned above, my data set is slightly smaller (~42k vs. ~45k observations) but with a greater number of attributes (20 vs. 17 thanks to the inclusion of macroeconomic variables). While logistic regression solves the issues of imbalanced data, I will pay attention to the missing values issue raised in the Columbia analysis, as dropping too many values depending on the attribute may have an adverse effect on the accuracy of the model.\n",
    "\n",
    "While the data is \"almost identical\" to the database compiled and analyzed by Moro, Cortez and Rita (\"A Data-Driven Approach to Predict the Success of Bank Telemarketing\", 2014), mine \"does not include all attributes due to privacy concerns\", which is typical for financial records that often have hundreds of variables not publically available.\n",
    "\n",
    "The data dictionary itself notes another issue prior to prediction, regarding the variable \"duration\": \n",
    "\n",
    "\"this attribute highly affects the output target (e.g., if duration=0 then y=\"no\").   Yet, the duration is not known before a call is performed. Also, after the end of the call y is obviously known. Thus, this input should only be included for benchmark purposes and should be discarded if the intention is to have a realistic predictive model.\" "
   ]
  },
  {
   "cell_type": "markdown",
   "metadata": {},
   "source": [
    "V. Outcomes \n",
    "\n",
    "With cross-validation to tune the parameters of the logistic model, and surveying the regression results of the aforementioned papers, ideal metrics are above 90% for accuracy, sensitivity, and AUC. \n",
    "\n",
    "Naturally this data does not include the actual marketing costs from which ROI can be determined. Misclassification costs in this context, however, are relatively low because little time is actually spent in the contact process and a \"no\" simply allows the bank caller to move on to the next client. "
   ]
  }
 ],
 "metadata": {
  "kernelspec": {
   "display_name": "Python 2",
   "language": "python",
   "name": "python2"
  },
  "language_info": {
   "codemirror_mode": {
    "name": "ipython",
    "version": 2
   },
   "file_extension": ".py",
   "mimetype": "text/x-python",
   "name": "python",
   "nbconvert_exporter": "python",
   "pygments_lexer": "ipython2",
   "version": "2.7.11"
  }
 },
 "nbformat": 4,
 "nbformat_minor": 0
}
